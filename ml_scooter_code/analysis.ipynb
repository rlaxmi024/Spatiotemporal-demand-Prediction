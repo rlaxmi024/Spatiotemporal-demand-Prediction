{
 "cells": [
  {
   "cell_type": "code",
   "execution_count": 2,
   "metadata": {},
   "outputs": [
    {
     "name": "stderr",
     "output_type": "stream",
     "text": [
      "/tmp/ipykernel_3149/2645757369.py:84: SettingWithCopyWarning: \n",
      "A value is trying to be set on a copy of a slice from a DataFrame.\n",
      "Try using .loc[row_indexer,col_indexer] = value instead\n",
      "\n",
      "See the caveats in the documentation: https://pandas.pydata.org/pandas-docs/stable/user_guide/indexing.html#returning-a-view-versus-a-copy\n",
      "  start_df['xy'] = df[['start_x', 'start_y']]. apply(tuple, axis=1)\n",
      "/tmp/ipykernel_3149/2645757369.py:85: SettingWithCopyWarning: \n",
      "A value is trying to be set on a copy of a slice from a DataFrame.\n",
      "Try using .loc[row_indexer,col_indexer] = value instead\n",
      "\n",
      "See the caveats in the documentation: https://pandas.pydata.org/pandas-docs/stable/user_guide/indexing.html#returning-a-view-versus-a-copy\n",
      "  end_df['xy'] = df[['end_x', 'end_y']]. apply(tuple, axis=1)\n",
      "/tmp/ipykernel_3149/2645757369.py:88: SettingWithCopyWarning: \n",
      "A value is trying to be set on a copy of a slice from a DataFrame.\n",
      "Try using .loc[row_indexer,col_indexer] = value instead\n",
      "\n",
      "See the caveats in the documentation: https://pandas.pydata.org/pandas-docs/stable/user_guide/indexing.html#returning-a-view-versus-a-copy\n",
      "  start_df['count'] = 1\n",
      "/tmp/ipykernel_3149/2645757369.py:89: SettingWithCopyWarning: \n",
      "A value is trying to be set on a copy of a slice from a DataFrame.\n",
      "Try using .loc[row_indexer,col_indexer] = value instead\n",
      "\n",
      "See the caveats in the documentation: https://pandas.pydata.org/pandas-docs/stable/user_guide/indexing.html#returning-a-view-versus-a-copy\n",
      "  end_df['count'] = 1\n"
     ]
    }
   ],
   "source": []
  },
  {
   "cell_type": "code",
   "execution_count": 10,
   "metadata": {},
   "outputs": [],
   "source": [
    "hour_list = sorted(set(start_df.index.get_level_values(0)) | set(end_df.index.get_level_values(0)))\n",
    "\n",
    "final_df = pd.DataFrame(columns=['time','grid_index','origin_count','destination_count'])\n",
    "\n",
    "for hour in hour_list:\n",
    "    dict = {}\n",
    "\n",
    "    if hour in start_df.index:\n",
    "        for row in start_df.loc[hour].itertuples():\n",
    "            dict[row.Index] = {'origin_count': row.count, 'destination_count': 0}\n",
    "\n",
    "    if hour in end_df.index:\n",
    "        for row in end_df.loc[hour].itertuples():\n",
    "            if row.Index in dict:\n",
    "                dict[row.Index]['destination_count'] = row.count\n",
    "            else:\n",
    "                dict[row.Index] = {'origin_count': 0, 'destination_count': row.count}\n",
    "\n",
    "    for grid_index, count in dict.items():\n",
    "        final_df.loc[len(final_df)] = [hour, grid_index, count['origin_count'], count['destination_count']]"
   ]
  },
  {
   "cell_type": "code",
   "execution_count": 13,
   "metadata": {},
   "outputs": [],
   "source": []
  },
  {
   "cell_type": "code",
   "execution_count": 54,
   "metadata": {},
   "outputs": [
    {
     "ename": "AttributeError",
     "evalue": "'Index' object has no attribute 'list'",
     "output_type": "error",
     "traceback": [
      "\u001b[0;31m---------------------------------------------------------------------------\u001b[0m",
      "\u001b[0;31mAttributeError\u001b[0m                            Traceback (most recent call last)",
      "Cell \u001b[0;32mIn[54], line 1\u001b[0m\n\u001b[0;32m----> 1\u001b[0m start_df\u001b[39m.\u001b[39;49mindex\u001b[39m.\u001b[39;49mget_level_values(\u001b[39m0\u001b[39;49m)\u001b[39m.\u001b[39;49mlist() \u001b[39m+\u001b[39m end_df\u001b[39m.\u001b[39mindex\u001b[39m.\u001b[39mget_level_values(\u001b[39m0\u001b[39m)\n",
      "\u001b[0;31mAttributeError\u001b[0m: 'Index' object has no attribute 'list'"
     ]
    }
   ],
   "source": [
    "start_df.index.get_level_values(0) + end_df.index.get_level_values(0)"
   ]
  },
  {
   "cell_type": "code",
   "execution_count": 61,
   "metadata": {},
   "outputs": [
    {
     "data": {
      "text/plain": [
       "8304"
      ]
     },
     "execution_count": 61,
     "metadata": {},
     "output_type": "execute_result"
    }
   ],
   "source": [
    "len(set(end_df.index.get_level_values(0)))"
   ]
  },
  {
   "cell_type": "code",
   "execution_count": 60,
   "metadata": {},
   "outputs": [
    {
     "data": {
      "text/plain": [
       "8314"
      ]
     },
     "execution_count": 60,
     "metadata": {},
     "output_type": "execute_result"
    }
   ],
   "source": [
    "len(sorted(set(start_df.index.get_level_values(0)) | set(end_df.index.get_level_values(0))))"
   ]
  },
  {
   "cell_type": "code",
   "execution_count": 41,
   "metadata": {},
   "outputs": [
    {
     "data": {
      "text/html": [
       "<div>\n",
       "<style scoped>\n",
       "    .dataframe tbody tr th:only-of-type {\n",
       "        vertical-align: middle;\n",
       "    }\n",
       "\n",
       "    .dataframe tbody tr th {\n",
       "        vertical-align: top;\n",
       "    }\n",
       "\n",
       "    .dataframe thead th {\n",
       "        text-align: right;\n",
       "    }\n",
       "</style>\n",
       "<table border=\"1\" class=\"dataframe\">\n",
       "  <thead>\n",
       "    <tr style=\"text-align: right;\">\n",
       "      <th></th>\n",
       "      <th></th>\n",
       "      <th>count</th>\n",
       "    </tr>\n",
       "    <tr>\n",
       "      <th>start_time_utc</th>\n",
       "      <th>xy</th>\n",
       "      <th></th>\n",
       "    </tr>\n",
       "  </thead>\n",
       "  <tbody>\n",
       "    <tr>\n",
       "      <th>2018-09-04T09</th>\n",
       "      <th>(57, 69)</th>\n",
       "      <td>2</td>\n",
       "    </tr>\n",
       "    <tr>\n",
       "      <th rowspan=\"4\" valign=\"top\">2018-09-04T10</th>\n",
       "      <th>(54, 63)</th>\n",
       "      <td>1</td>\n",
       "    </tr>\n",
       "    <tr>\n",
       "      <th>(57, 70)</th>\n",
       "      <td>1</td>\n",
       "    </tr>\n",
       "    <tr>\n",
       "      <th>(59, 68)</th>\n",
       "      <td>1</td>\n",
       "    </tr>\n",
       "    <tr>\n",
       "      <th>(62, 65)</th>\n",
       "      <td>1</td>\n",
       "    </tr>\n",
       "    <tr>\n",
       "      <th rowspan=\"13\" valign=\"top\">2018-09-04T11</th>\n",
       "      <th>(51, 64)</th>\n",
       "      <td>2</td>\n",
       "    </tr>\n",
       "    <tr>\n",
       "      <th>(55, 64)</th>\n",
       "      <td>2</td>\n",
       "    </tr>\n",
       "    <tr>\n",
       "      <th>(57, 59)</th>\n",
       "      <td>1</td>\n",
       "    </tr>\n",
       "    <tr>\n",
       "      <th>(57, 69)</th>\n",
       "      <td>2</td>\n",
       "    </tr>\n",
       "    <tr>\n",
       "      <th>(57, 71)</th>\n",
       "      <td>1</td>\n",
       "    </tr>\n",
       "    <tr>\n",
       "      <th>(58, 66)</th>\n",
       "      <td>1</td>\n",
       "    </tr>\n",
       "    <tr>\n",
       "      <th>(59, 67)</th>\n",
       "      <td>1</td>\n",
       "    </tr>\n",
       "    <tr>\n",
       "      <th>(59, 69)</th>\n",
       "      <td>5</td>\n",
       "    </tr>\n",
       "    <tr>\n",
       "      <th>(62, 65)</th>\n",
       "      <td>1</td>\n",
       "    </tr>\n",
       "    <tr>\n",
       "      <th>(62, 73)</th>\n",
       "      <td>1</td>\n",
       "    </tr>\n",
       "    <tr>\n",
       "      <th>(63, 23)</th>\n",
       "      <td>1</td>\n",
       "    </tr>\n",
       "    <tr>\n",
       "      <th>(63, 24)</th>\n",
       "      <td>1</td>\n",
       "    </tr>\n",
       "    <tr>\n",
       "      <th>(64, 75)</th>\n",
       "      <td>1</td>\n",
       "    </tr>\n",
       "  </tbody>\n",
       "</table>\n",
       "</div>"
      ],
      "text/plain": [
       "                         count\n",
       "start_time_utc xy             \n",
       "2018-09-04T09  (57, 69)      2\n",
       "2018-09-04T10  (54, 63)      1\n",
       "               (57, 70)      1\n",
       "               (59, 68)      1\n",
       "               (62, 65)      1\n",
       "2018-09-04T11  (51, 64)      2\n",
       "               (55, 64)      2\n",
       "               (57, 59)      1\n",
       "               (57, 69)      2\n",
       "               (57, 71)      1\n",
       "               (58, 66)      1\n",
       "               (59, 67)      1\n",
       "               (59, 69)      5\n",
       "               (62, 65)      1\n",
       "               (62, 73)      1\n",
       "               (63, 23)      1\n",
       "               (63, 24)      1\n",
       "               (64, 75)      1"
      ]
     },
     "execution_count": 41,
     "metadata": {},
     "output_type": "execute_result"
    }
   ],
   "source": [
    "start_df.head(18)"
   ]
  },
  {
   "cell_type": "code",
   "execution_count": 24,
   "metadata": {},
   "outputs": [],
   "source": [
    "df.drop(columns=['start_lat', 'start_lon', 'end_lat', 'end_lon'], inplace=True)"
   ]
  },
  {
   "cell_type": "code",
   "execution_count": 31,
   "metadata": {},
   "outputs": [
    {
     "data": {
      "text/plain": [
       "125.73994949226454"
      ]
     },
     "execution_count": 31,
     "metadata": {},
     "output_type": "execute_result"
    }
   ],
   "source": [
    "grid_max_y"
   ]
  },
  {
   "cell_type": "code",
   "execution_count": 29,
   "metadata": {},
   "outputs": [
    {
     "data": {
      "text/html": [
       "<div>\n",
       "<style scoped>\n",
       "    .dataframe tbody tr th:only-of-type {\n",
       "        vertical-align: middle;\n",
       "    }\n",
       "\n",
       "    .dataframe tbody tr th {\n",
       "        vertical-align: top;\n",
       "    }\n",
       "\n",
       "    .dataframe thead th {\n",
       "        text-align: right;\n",
       "    }\n",
       "</style>\n",
       "<table border=\"1\" class=\"dataframe\">\n",
       "  <thead>\n",
       "    <tr style=\"text-align: right;\">\n",
       "      <th></th>\n",
       "      <th>start_x</th>\n",
       "      <th>start_y</th>\n",
       "      <th>end_x</th>\n",
       "      <th>end_y</th>\n",
       "    </tr>\n",
       "  </thead>\n",
       "  <tbody>\n",
       "    <tr>\n",
       "      <th>count</th>\n",
       "      <td>1.374665e+06</td>\n",
       "      <td>1.374665e+06</td>\n",
       "      <td>1.374665e+06</td>\n",
       "      <td>1.374665e+06</td>\n",
       "    </tr>\n",
       "    <tr>\n",
       "      <th>mean</th>\n",
       "      <td>5.861874e+01</td>\n",
       "      <td>6.707850e+01</td>\n",
       "      <td>5.861246e+01</td>\n",
       "      <td>6.704231e+01</td>\n",
       "    </tr>\n",
       "    <tr>\n",
       "      <th>std</th>\n",
       "      <td>4.195077e+00</td>\n",
       "      <td>8.751645e+00</td>\n",
       "      <td>4.485137e+00</td>\n",
       "      <td>8.858408e+00</td>\n",
       "    </tr>\n",
       "    <tr>\n",
       "      <th>min</th>\n",
       "      <td>5.046350e-01</td>\n",
       "      <td>2.833530e-01</td>\n",
       "      <td>7.242676e-01</td>\n",
       "      <td>1.331192e-02</td>\n",
       "    </tr>\n",
       "    <tr>\n",
       "      <th>25%</th>\n",
       "      <td>5.692373e+01</td>\n",
       "      <td>6.651180e+01</td>\n",
       "      <td>5.683737e+01</td>\n",
       "      <td>6.648087e+01</td>\n",
       "    </tr>\n",
       "    <tr>\n",
       "      <th>50%</th>\n",
       "      <td>5.851842e+01</td>\n",
       "      <td>6.889069e+01</td>\n",
       "      <td>5.852529e+01</td>\n",
       "      <td>6.888627e+01</td>\n",
       "    </tr>\n",
       "    <tr>\n",
       "      <th>75%</th>\n",
       "      <td>6.032928e+01</td>\n",
       "      <td>7.013863e+01</td>\n",
       "      <td>6.038322e+01</td>\n",
       "      <td>7.014245e+01</td>\n",
       "    </tr>\n",
       "    <tr>\n",
       "      <th>max</th>\n",
       "      <td>1.284121e+02</td>\n",
       "      <td>1.257196e+02</td>\n",
       "      <td>1.284536e+02</td>\n",
       "      <td>1.257196e+02</td>\n",
       "    </tr>\n",
       "  </tbody>\n",
       "</table>\n",
       "</div>"
      ],
      "text/plain": [
       "            start_x       start_y         end_x         end_y\n",
       "count  1.374665e+06  1.374665e+06  1.374665e+06  1.374665e+06\n",
       "mean   5.861874e+01  6.707850e+01  5.861246e+01  6.704231e+01\n",
       "std    4.195077e+00  8.751645e+00  4.485137e+00  8.858408e+00\n",
       "min    5.046350e-01  2.833530e-01  7.242676e-01  1.331192e-02\n",
       "25%    5.692373e+01  6.651180e+01  5.683737e+01  6.648087e+01\n",
       "50%    5.851842e+01  6.889069e+01  5.852529e+01  6.888627e+01\n",
       "75%    6.032928e+01  7.013863e+01  6.038322e+01  7.014245e+01\n",
       "max    1.284121e+02  1.257196e+02  1.284536e+02  1.257196e+02"
      ]
     },
     "execution_count": 29,
     "metadata": {},
     "output_type": "execute_result"
    }
   ],
   "source": [
    "df.describe()"
   ]
  },
  {
   "cell_type": "code",
   "execution_count": 30,
   "metadata": {},
   "outputs": [
    {
     "data": {
      "text/plain": [
       "1374665"
      ]
     },
     "execution_count": 30,
     "metadata": {},
     "output_type": "execute_result"
    }
   ],
   "source": [
    "len(df)"
   ]
  },
  {
   "cell_type": "code",
   "execution_count": 21,
   "metadata": {},
   "outputs": [
    {
     "data": {
      "text/html": [
       "<div>\n",
       "<style scoped>\n",
       "    .dataframe tbody tr th:only-of-type {\n",
       "        vertical-align: middle;\n",
       "    }\n",
       "\n",
       "    .dataframe tbody tr th {\n",
       "        vertical-align: top;\n",
       "    }\n",
       "\n",
       "    .dataframe thead th {\n",
       "        text-align: right;\n",
       "    }\n",
       "</style>\n",
       "<table border=\"1\" class=\"dataframe\">\n",
       "  <thead>\n",
       "    <tr style=\"text-align: right;\">\n",
       "      <th></th>\n",
       "      <th>start_time_utc</th>\n",
       "      <th>end_time_utc</th>\n",
       "      <th>start_lat</th>\n",
       "      <th>start_lon</th>\n",
       "      <th>end_lat</th>\n",
       "      <th>end_lon</th>\n",
       "    </tr>\n",
       "  </thead>\n",
       "  <tbody>\n",
       "  </tbody>\n",
       "</table>\n",
       "</div>"
      ],
      "text/plain": [
       "Empty DataFrame\n",
       "Columns: [start_time_utc, end_time_utc, start_lat, start_lon, end_lat, end_lon]\n",
       "Index: []"
      ]
     },
     "execution_count": 21,
     "metadata": {},
     "output_type": "execute_result"
    }
   ],
   "source": [
    "df[df.isna().any(axis=1)]"
   ]
  },
  {
   "cell_type": "code",
   "execution_count": 9,
   "metadata": {},
   "outputs": [],
   "source": [
    "df['start_time_utc'] = df['start_time_utc'].str[: 13]"
   ]
  },
  {
   "cell_type": "code",
   "execution_count": 10,
   "metadata": {},
   "outputs": [
    {
     "data": {
      "text/html": [
       "<div>\n",
       "<style scoped>\n",
       "    .dataframe tbody tr th:only-of-type {\n",
       "        vertical-align: middle;\n",
       "    }\n",
       "\n",
       "    .dataframe tbody tr th {\n",
       "        vertical-align: top;\n",
       "    }\n",
       "\n",
       "    .dataframe thead th {\n",
       "        text-align: right;\n",
       "    }\n",
       "</style>\n",
       "<table border=\"1\" class=\"dataframe\">\n",
       "  <thead>\n",
       "    <tr style=\"text-align: right;\">\n",
       "      <th></th>\n",
       "      <th>start_time_utc</th>\n",
       "      <th>end_time_utc</th>\n",
       "      <th>start_lat</th>\n",
       "      <th>start_lon</th>\n",
       "      <th>end_lat</th>\n",
       "      <th>end_lon</th>\n",
       "    </tr>\n",
       "  </thead>\n",
       "  <tbody>\n",
       "    <tr>\n",
       "      <th>0</th>\n",
       "      <td>2018-09-04T09:</td>\n",
       "      <td>2018-09-04T10:27:00Z</td>\n",
       "      <td>39.766650</td>\n",
       "      <td>-86.160210</td>\n",
       "      <td>39.758495</td>\n",
       "      <td>-86.185028</td>\n",
       "    </tr>\n",
       "    <tr>\n",
       "      <th>1</th>\n",
       "      <td>2018-09-04T09:</td>\n",
       "      <td>2018-09-04T09:59:00Z</td>\n",
       "      <td>39.767559</td>\n",
       "      <td>-86.159926</td>\n",
       "      <td>39.768615</td>\n",
       "      <td>-86.158798</td>\n",
       "    </tr>\n",
       "    <tr>\n",
       "      <th>2</th>\n",
       "      <td>2018-09-04T10:</td>\n",
       "      <td>2018-09-04T10:15:00Z</td>\n",
       "      <td>39.777007</td>\n",
       "      <td>-86.146346</td>\n",
       "      <td>39.775085</td>\n",
       "      <td>-86.146225</td>\n",
       "    </tr>\n",
       "    <tr>\n",
       "      <th>3</th>\n",
       "      <td>2018-09-04T10:</td>\n",
       "      <td>2018-09-04T10:27:00Z</td>\n",
       "      <td>39.780555</td>\n",
       "      <td>-86.170685</td>\n",
       "      <td>39.778378</td>\n",
       "      <td>-86.178475</td>\n",
       "    </tr>\n",
       "    <tr>\n",
       "      <th>4</th>\n",
       "      <td>2018-09-04T10:</td>\n",
       "      <td>2018-09-04T10:50:00Z</td>\n",
       "      <td>39.769585</td>\n",
       "      <td>-86.156090</td>\n",
       "      <td>39.764035</td>\n",
       "      <td>-86.150330</td>\n",
       "    </tr>\n",
       "  </tbody>\n",
       "</table>\n",
       "</div>"
      ],
      "text/plain": [
       "   start_time_utc          end_time_utc  start_lat  start_lon    end_lat  \\\n",
       "0  2018-09-04T09:  2018-09-04T10:27:00Z  39.766650 -86.160210  39.758495   \n",
       "1  2018-09-04T09:  2018-09-04T09:59:00Z  39.767559 -86.159926  39.768615   \n",
       "2  2018-09-04T10:  2018-09-04T10:15:00Z  39.777007 -86.146346  39.775085   \n",
       "3  2018-09-04T10:  2018-09-04T10:27:00Z  39.780555 -86.170685  39.778378   \n",
       "4  2018-09-04T10:  2018-09-04T10:50:00Z  39.769585 -86.156090  39.764035   \n",
       "\n",
       "     end_lon  \n",
       "0 -86.185028  \n",
       "1 -86.158798  \n",
       "2 -86.146225  \n",
       "3 -86.178475  \n",
       "4 -86.150330  "
      ]
     },
     "execution_count": 10,
     "metadata": {},
     "output_type": "execute_result"
    }
   ],
   "source": [
    "df.head()"
   ]
  },
  {
   "cell_type": "code",
   "execution_count": 2,
   "metadata": {},
   "outputs": [
    {
     "data": {
      "text/plain": [
       "(571928.1083122492, 4402195.371753442, 16, 'S')"
      ]
     },
     "execution_count": 2,
     "metadata": {},
     "output_type": "execute_result"
    }
   ],
   "source": [
    "utm.from_latlon(39.766650, -86.160210)"
   ]
  },
  {
   "cell_type": "code",
   "execution_count": 3,
   "metadata": {},
   "outputs": [],
   "source": [
    "import pandas as pd\n",
    "import ast\n",
    "dataset = pd.read_csv('data/preprocessed_scooter_data.csv')"
   ]
  },
  {
   "cell_type": "code",
   "execution_count": 27,
   "metadata": {},
   "outputs": [
    {
     "name": "stdout",
     "output_type": "stream",
     "text": [
      "            time grid_index  origin_count  destination_count\n",
      "0  2018-09-04T09   (57, 69)             2                  0\n",
      "1  2018-09-04T09   (58, 68)             0                  1\n",
      "[-2, 1]\n",
      "[(57, 69), (58, 68)]\n"
     ]
    }
   ],
   "source": [
    "for name, group in dataset.groupby('time'):\n",
    "    grid_index = group['grid_index'].apply(ast.literal_eval).tolist()\n",
    "    grid_values = (group['destination_count'] - group['origin_count']).tolist()\n",
    "    print(group)\n",
    "    print(grid_values)\n",
    "    print(grid_index)\n",
    "    break\n"
   ]
  },
  {
   "cell_type": "code",
   "execution_count": 24,
   "metadata": {},
   "outputs": [],
   "source": [
    "import torch"
   ]
  },
  {
   "cell_type": "code",
   "execution_count": 28,
   "metadata": {},
   "outputs": [
    {
     "data": {
      "text/plain": [
       "tensor([[ 0,  1],\n",
       "        [-2,  0]])"
      ]
     },
     "execution_count": 28,
     "metadata": {},
     "output_type": "execute_result"
    }
   ],
   "source": [
    "torch.sparse_coo_tensor(list(zip(*grid_index))[::-1], grid_values, (126, 130)).to_dense()[68:70, 57:59]"
   ]
  },
  {
   "cell_type": "code",
   "execution_count": null,
   "metadata": {},
   "outputs": [],
   "source": []
  }
 ],
 "metadata": {
  "kernelspec": {
   "display_name": "Python 3.8.15 ('scooter')",
   "language": "python",
   "name": "python3"
  },
  "language_info": {
   "codemirror_mode": {
    "name": "ipython",
    "version": 3
   },
   "file_extension": ".py",
   "mimetype": "text/x-python",
   "name": "python",
   "nbconvert_exporter": "python",
   "pygments_lexer": "ipython3",
   "version": "3.8.15"
  },
  "orig_nbformat": 4,
  "vscode": {
   "interpreter": {
    "hash": "fda1a3cc756338b85bc875a01c9165ba6c5034e2609727e968453403cb8321cd"
   }
  }
 },
 "nbformat": 4,
 "nbformat_minor": 2
}
